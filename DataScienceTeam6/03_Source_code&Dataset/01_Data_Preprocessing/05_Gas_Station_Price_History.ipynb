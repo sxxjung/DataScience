{
 "cells": [
  {
   "cell_type": "code",
   "execution_count": 1,
   "metadata": {},
   "outputs": [],
   "source": [
    "import pandas as pd\n",
    "import numpy as np\n",
    "import matplotlib.pyplot as plt"
   ]
  },
  {
   "cell_type": "code",
   "execution_count": 2,
   "metadata": {},
   "outputs": [
    {
     "data": {
      "text/html": [
       "<div>\n",
       "<style scoped>\n",
       "    .dataframe tbody tr th:only-of-type {\n",
       "        vertical-align: middle;\n",
       "    }\n",
       "\n",
       "    .dataframe tbody tr th {\n",
       "        vertical-align: top;\n",
       "    }\n",
       "\n",
       "    .dataframe thead th {\n",
       "        text-align: right;\n",
       "    }\n",
       "</style>\n",
       "<table border=\"1\" class=\"dataframe\">\n",
       "  <thead>\n",
       "    <tr style=\"text-align: right;\">\n",
       "      <th></th>\n",
       "      <th>Date</th>\n",
       "      <th>Regular Unleaded Gasoline</th>\n",
       "      <th>Diesel Fuel for Automobiles</th>\n",
       "    </tr>\n",
       "  </thead>\n",
       "  <tbody>\n",
       "    <tr>\n",
       "      <th>0</th>\n",
       "      <td>2011년01월01일</td>\n",
       "      <td>1814.57</td>\n",
       "      <td>1611.14</td>\n",
       "    </tr>\n",
       "    <tr>\n",
       "      <th>1</th>\n",
       "      <td>2011년01월02일</td>\n",
       "      <td>1815.24</td>\n",
       "      <td>1611.79</td>\n",
       "    </tr>\n",
       "    <tr>\n",
       "      <th>2</th>\n",
       "      <td>2011년01월03일</td>\n",
       "      <td>1816.15</td>\n",
       "      <td>1612.85</td>\n",
       "    </tr>\n",
       "    <tr>\n",
       "      <th>3</th>\n",
       "      <td>2011년01월04일</td>\n",
       "      <td>1817.48</td>\n",
       "      <td>1614.02</td>\n",
       "    </tr>\n",
       "    <tr>\n",
       "      <th>4</th>\n",
       "      <td>2011년01월05일</td>\n",
       "      <td>1818.53</td>\n",
       "      <td>1615.00</td>\n",
       "    </tr>\n",
       "  </tbody>\n",
       "</table>\n",
       "</div>"
      ],
      "text/plain": [
       "          Date  Regular Unleaded Gasoline  Diesel Fuel for Automobiles\n",
       "0  2011년01월01일                    1814.57                      1611.14\n",
       "1  2011년01월02일                    1815.24                      1611.79\n",
       "2  2011년01월03일                    1816.15                      1612.85\n",
       "3  2011년01월04일                    1817.48                      1614.02\n",
       "4  2011년01월05일                    1818.53                      1615.00"
      ]
     },
     "execution_count": 2,
     "metadata": {},
     "output_type": "execute_result"
    }
   ],
   "source": [
    "# Read excel file\n",
    "\n",
    "Gas_Station_Price_History = pd.read_excel(\"../00_Data/Original_data/Gas_Station_Price_History.xlsx\")\n",
    "Gas_Station_Price_History.head()"
   ]
  },
  {
   "cell_type": "code",
   "execution_count": 3,
   "metadata": {},
   "outputs": [
    {
     "name": "stdout",
     "output_type": "stream",
     "text": [
      "<class 'pandas.core.frame.DataFrame'>\n",
      "RangeIndex: 4901 entries, 0 to 4900\n",
      "Data columns (total 3 columns):\n",
      " #   Column                       Non-Null Count  Dtype  \n",
      "---  ------                       --------------  -----  \n",
      " 0   Date                         4901 non-null   object \n",
      " 1   Regular Unleaded Gasoline    4901 non-null   float64\n",
      " 2   Diesel Fuel for Automobiles  4901 non-null   float64\n",
      "dtypes: float64(2), object(1)\n",
      "memory usage: 115.0+ KB\n"
     ]
    }
   ],
   "source": [
    "Gas_Station_Price_History.info()"
   ]
  },
  {
   "cell_type": "code",
   "execution_count": 4,
   "metadata": {},
   "outputs": [
    {
     "data": {
      "text/html": [
       "<div>\n",
       "<style scoped>\n",
       "    .dataframe tbody tr th:only-of-type {\n",
       "        vertical-align: middle;\n",
       "    }\n",
       "\n",
       "    .dataframe tbody tr th {\n",
       "        vertical-align: top;\n",
       "    }\n",
       "\n",
       "    .dataframe thead th {\n",
       "        text-align: right;\n",
       "    }\n",
       "</style>\n",
       "<table border=\"1\" class=\"dataframe\">\n",
       "  <thead>\n",
       "    <tr style=\"text-align: right;\">\n",
       "      <th></th>\n",
       "      <th>Date</th>\n",
       "      <th>Regular Unleaded Gasoline</th>\n",
       "      <th>Diesel Fuel for Automobiles</th>\n",
       "    </tr>\n",
       "  </thead>\n",
       "  <tbody>\n",
       "    <tr>\n",
       "      <th>0</th>\n",
       "      <td>2011년01월01일</td>\n",
       "      <td>1814.57</td>\n",
       "      <td>1611.14</td>\n",
       "    </tr>\n",
       "    <tr>\n",
       "      <th>1</th>\n",
       "      <td>2011년01월02일</td>\n",
       "      <td>1815.24</td>\n",
       "      <td>1611.79</td>\n",
       "    </tr>\n",
       "    <tr>\n",
       "      <th>2</th>\n",
       "      <td>2011년01월03일</td>\n",
       "      <td>1816.15</td>\n",
       "      <td>1612.85</td>\n",
       "    </tr>\n",
       "    <tr>\n",
       "      <th>3</th>\n",
       "      <td>2011년01월04일</td>\n",
       "      <td>1817.48</td>\n",
       "      <td>1614.02</td>\n",
       "    </tr>\n",
       "    <tr>\n",
       "      <th>4</th>\n",
       "      <td>2011년01월05일</td>\n",
       "      <td>1818.53</td>\n",
       "      <td>1615.00</td>\n",
       "    </tr>\n",
       "    <tr>\n",
       "      <th>...</th>\n",
       "      <td>...</td>\n",
       "      <td>...</td>\n",
       "      <td>...</td>\n",
       "    </tr>\n",
       "    <tr>\n",
       "      <th>4896</th>\n",
       "      <td>2024년05월28일</td>\n",
       "      <td>1678.28</td>\n",
       "      <td>1511.65</td>\n",
       "    </tr>\n",
       "    <tr>\n",
       "      <th>4897</th>\n",
       "      <td>2024년05월29일</td>\n",
       "      <td>1676.54</td>\n",
       "      <td>1509.36</td>\n",
       "    </tr>\n",
       "    <tr>\n",
       "      <th>4898</th>\n",
       "      <td>2024년05월30일</td>\n",
       "      <td>1675.12</td>\n",
       "      <td>1507.42</td>\n",
       "    </tr>\n",
       "    <tr>\n",
       "      <th>4899</th>\n",
       "      <td>2024년05월31일</td>\n",
       "      <td>1673.58</td>\n",
       "      <td>1505.54</td>\n",
       "    </tr>\n",
       "    <tr>\n",
       "      <th>4900</th>\n",
       "      <td>2024년06월01일</td>\n",
       "      <td>1671.21</td>\n",
       "      <td>1502.62</td>\n",
       "    </tr>\n",
       "  </tbody>\n",
       "</table>\n",
       "<p>4901 rows × 3 columns</p>\n",
       "</div>"
      ],
      "text/plain": [
       "             Date  Regular Unleaded Gasoline  Diesel Fuel for Automobiles\n",
       "0     2011년01월01일                    1814.57                      1611.14\n",
       "1     2011년01월02일                    1815.24                      1611.79\n",
       "2     2011년01월03일                    1816.15                      1612.85\n",
       "3     2011년01월04일                    1817.48                      1614.02\n",
       "4     2011년01월05일                    1818.53                      1615.00\n",
       "...           ...                        ...                          ...\n",
       "4896  2024년05월28일                    1678.28                      1511.65\n",
       "4897  2024년05월29일                    1676.54                      1509.36\n",
       "4898  2024년05월30일                    1675.12                      1507.42\n",
       "4899  2024년05월31일                    1673.58                      1505.54\n",
       "4900  2024년06월01일                    1671.21                      1502.62\n",
       "\n",
       "[4901 rows x 3 columns]"
      ]
     },
     "execution_count": 4,
     "metadata": {},
     "output_type": "execute_result"
    }
   ],
   "source": [
    "Gas_Station_Price_History_drop = Gas_Station_Price_History.dropna()\n",
    "Gas_Station_Price_History_drop"
   ]
  },
  {
   "cell_type": "code",
   "execution_count": 5,
   "metadata": {},
   "outputs": [
    {
     "name": "stdout",
     "output_type": "stream",
     "text": [
      "<class 'pandas.core.frame.DataFrame'>\n",
      "RangeIndex: 4901 entries, 0 to 4900\n",
      "Data columns (total 3 columns):\n",
      " #   Column                       Non-Null Count  Dtype  \n",
      "---  ------                       --------------  -----  \n",
      " 0   Date                         4901 non-null   object \n",
      " 1   Regular Unleaded Gasoline    4901 non-null   float64\n",
      " 2   Diesel Fuel for Automobiles  4901 non-null   float64\n",
      "dtypes: float64(2), object(1)\n",
      "memory usage: 115.0+ KB\n"
     ]
    }
   ],
   "source": [
    "Gas_Station_Price_History_drop.info()"
   ]
  },
  {
   "cell_type": "code",
   "execution_count": 6,
   "metadata": {},
   "outputs": [
    {
     "data": {
      "text/html": [
       "<div>\n",
       "<style scoped>\n",
       "    .dataframe tbody tr th:only-of-type {\n",
       "        vertical-align: middle;\n",
       "    }\n",
       "\n",
       "    .dataframe tbody tr th {\n",
       "        vertical-align: top;\n",
       "    }\n",
       "\n",
       "    .dataframe thead th {\n",
       "        text-align: right;\n",
       "    }\n",
       "</style>\n",
       "<table border=\"1\" class=\"dataframe\">\n",
       "  <thead>\n",
       "    <tr style=\"text-align: right;\">\n",
       "      <th></th>\n",
       "      <th>Regular Unleaded Gasoline</th>\n",
       "      <th>Diesel Fuel for Automobiles</th>\n",
       "    </tr>\n",
       "  </thead>\n",
       "  <tbody>\n",
       "    <tr>\n",
       "      <th>count</th>\n",
       "      <td>4901.000000</td>\n",
       "      <td>4901.000000</td>\n",
       "    </tr>\n",
       "    <tr>\n",
       "      <th>mean</th>\n",
       "      <td>1657.432579</td>\n",
       "      <td>1493.239257</td>\n",
       "    </tr>\n",
       "    <tr>\n",
       "      <th>std</th>\n",
       "      <td>215.020937</td>\n",
       "      <td>239.084562</td>\n",
       "    </tr>\n",
       "    <tr>\n",
       "      <th>min</th>\n",
       "      <td>1247.580000</td>\n",
       "      <td>1058.750000</td>\n",
       "    </tr>\n",
       "    <tr>\n",
       "      <th>25%</th>\n",
       "      <td>1493.700000</td>\n",
       "      <td>1298.450000</td>\n",
       "    </tr>\n",
       "    <tr>\n",
       "      <th>50%</th>\n",
       "      <td>1603.520000</td>\n",
       "      <td>1437.880000</td>\n",
       "    </tr>\n",
       "    <tr>\n",
       "      <th>75%</th>\n",
       "      <td>1880.330000</td>\n",
       "      <td>1706.450000</td>\n",
       "    </tr>\n",
       "    <tr>\n",
       "      <th>max</th>\n",
       "      <td>2144.900000</td>\n",
       "      <td>2167.660000</td>\n",
       "    </tr>\n",
       "  </tbody>\n",
       "</table>\n",
       "</div>"
      ],
      "text/plain": [
       "       Regular Unleaded Gasoline  Diesel Fuel for Automobiles\n",
       "count                4901.000000                  4901.000000\n",
       "mean                 1657.432579                  1493.239257\n",
       "std                   215.020937                   239.084562\n",
       "min                  1247.580000                  1058.750000\n",
       "25%                  1493.700000                  1298.450000\n",
       "50%                  1603.520000                  1437.880000\n",
       "75%                  1880.330000                  1706.450000\n",
       "max                  2144.900000                  2167.660000"
      ]
     },
     "execution_count": 6,
     "metadata": {},
     "output_type": "execute_result"
    }
   ],
   "source": [
    "Gas_Station_Price_History_drop.describe()"
   ]
  },
  {
   "cell_type": "code",
   "execution_count": 7,
   "metadata": {},
   "outputs": [
    {
     "data": {
      "text/plain": [
       "Date                            object\n",
       "Regular Unleaded Gasoline      float64\n",
       "Diesel Fuel for Automobiles    float64\n",
       "dtype: object"
      ]
     },
     "execution_count": 7,
     "metadata": {},
     "output_type": "execute_result"
    }
   ],
   "source": [
    "Gas_Station_Price_History_drop.dtypes"
   ]
  },
  {
   "cell_type": "code",
   "execution_count": 8,
   "metadata": {},
   "outputs": [
    {
     "data": {
      "text/html": [
       "<div>\n",
       "<style scoped>\n",
       "    .dataframe tbody tr th:only-of-type {\n",
       "        vertical-align: middle;\n",
       "    }\n",
       "\n",
       "    .dataframe tbody tr th {\n",
       "        vertical-align: top;\n",
       "    }\n",
       "\n",
       "    .dataframe thead th {\n",
       "        text-align: right;\n",
       "    }\n",
       "</style>\n",
       "<table border=\"1\" class=\"dataframe\">\n",
       "  <thead>\n",
       "    <tr style=\"text-align: right;\">\n",
       "      <th></th>\n",
       "      <th>Date</th>\n",
       "      <th>Regular Unleaded Gasoline</th>\n",
       "      <th>Diesel Fuel for Automobiles</th>\n",
       "    </tr>\n",
       "  </thead>\n",
       "  <tbody>\n",
       "    <tr>\n",
       "      <th>0</th>\n",
       "      <td>2011년01월01일</td>\n",
       "      <td>1814.57</td>\n",
       "      <td>1611.14</td>\n",
       "    </tr>\n",
       "    <tr>\n",
       "      <th>1</th>\n",
       "      <td>2011년01월02일</td>\n",
       "      <td>1815.24</td>\n",
       "      <td>1611.79</td>\n",
       "    </tr>\n",
       "    <tr>\n",
       "      <th>2</th>\n",
       "      <td>2011년01월03일</td>\n",
       "      <td>1816.15</td>\n",
       "      <td>1612.85</td>\n",
       "    </tr>\n",
       "    <tr>\n",
       "      <th>3</th>\n",
       "      <td>2011년01월04일</td>\n",
       "      <td>1817.48</td>\n",
       "      <td>1614.02</td>\n",
       "    </tr>\n",
       "    <tr>\n",
       "      <th>4</th>\n",
       "      <td>2011년01월05일</td>\n",
       "      <td>1818.53</td>\n",
       "      <td>1615.00</td>\n",
       "    </tr>\n",
       "  </tbody>\n",
       "</table>\n",
       "</div>"
      ],
      "text/plain": [
       "          Date  Regular Unleaded Gasoline  Diesel Fuel for Automobiles\n",
       "0  2011년01월01일                    1814.57                      1611.14\n",
       "1  2011년01월02일                    1815.24                      1611.79\n",
       "2  2011년01월03일                    1816.15                      1612.85\n",
       "3  2011년01월04일                    1817.48                      1614.02\n",
       "4  2011년01월05일                    1818.53                      1615.00"
      ]
     },
     "execution_count": 8,
     "metadata": {},
     "output_type": "execute_result"
    }
   ],
   "source": [
    "Gas_Station_Price_History_drop.head()"
   ]
  },
  {
   "cell_type": "code",
   "execution_count": 9,
   "metadata": {},
   "outputs": [],
   "source": [
    "from datetime import datetime, timedelta\n",
    "\n",
    "# Change the date data of oil prices to the format YYYY-MM-DD.\n",
    "Gas_Station_Price_History_drop['Date'] = pd.to_datetime(Gas_Station_Price_History_drop['Date'], format='%Y년%m월%d일')"
   ]
  },
  {
   "cell_type": "code",
   "execution_count": 10,
   "metadata": {},
   "outputs": [
    {
     "data": {
      "text/html": [
       "<div>\n",
       "<style scoped>\n",
       "    .dataframe tbody tr th:only-of-type {\n",
       "        vertical-align: middle;\n",
       "    }\n",
       "\n",
       "    .dataframe tbody tr th {\n",
       "        vertical-align: top;\n",
       "    }\n",
       "\n",
       "    .dataframe thead th {\n",
       "        text-align: right;\n",
       "    }\n",
       "</style>\n",
       "<table border=\"1\" class=\"dataframe\">\n",
       "  <thead>\n",
       "    <tr style=\"text-align: right;\">\n",
       "      <th></th>\n",
       "      <th>Date</th>\n",
       "      <th>Regular Unleaded Gasoline</th>\n",
       "      <th>Diesel Fuel for Automobiles</th>\n",
       "    </tr>\n",
       "  </thead>\n",
       "  <tbody>\n",
       "    <tr>\n",
       "      <th>0</th>\n",
       "      <td>2011-01-01</td>\n",
       "      <td>1814.57</td>\n",
       "      <td>1611.14</td>\n",
       "    </tr>\n",
       "    <tr>\n",
       "      <th>1</th>\n",
       "      <td>2011-01-02</td>\n",
       "      <td>1815.24</td>\n",
       "      <td>1611.79</td>\n",
       "    </tr>\n",
       "    <tr>\n",
       "      <th>2</th>\n",
       "      <td>2011-01-03</td>\n",
       "      <td>1816.15</td>\n",
       "      <td>1612.85</td>\n",
       "    </tr>\n",
       "    <tr>\n",
       "      <th>3</th>\n",
       "      <td>2011-01-04</td>\n",
       "      <td>1817.48</td>\n",
       "      <td>1614.02</td>\n",
       "    </tr>\n",
       "    <tr>\n",
       "      <th>4</th>\n",
       "      <td>2011-01-05</td>\n",
       "      <td>1818.53</td>\n",
       "      <td>1615.00</td>\n",
       "    </tr>\n",
       "    <tr>\n",
       "      <th>...</th>\n",
       "      <td>...</td>\n",
       "      <td>...</td>\n",
       "      <td>...</td>\n",
       "    </tr>\n",
       "    <tr>\n",
       "      <th>4896</th>\n",
       "      <td>2024-05-28</td>\n",
       "      <td>1678.28</td>\n",
       "      <td>1511.65</td>\n",
       "    </tr>\n",
       "    <tr>\n",
       "      <th>4897</th>\n",
       "      <td>2024-05-29</td>\n",
       "      <td>1676.54</td>\n",
       "      <td>1509.36</td>\n",
       "    </tr>\n",
       "    <tr>\n",
       "      <th>4898</th>\n",
       "      <td>2024-05-30</td>\n",
       "      <td>1675.12</td>\n",
       "      <td>1507.42</td>\n",
       "    </tr>\n",
       "    <tr>\n",
       "      <th>4899</th>\n",
       "      <td>2024-05-31</td>\n",
       "      <td>1673.58</td>\n",
       "      <td>1505.54</td>\n",
       "    </tr>\n",
       "    <tr>\n",
       "      <th>4900</th>\n",
       "      <td>2024-06-01</td>\n",
       "      <td>1671.21</td>\n",
       "      <td>1502.62</td>\n",
       "    </tr>\n",
       "  </tbody>\n",
       "</table>\n",
       "<p>4901 rows × 3 columns</p>\n",
       "</div>"
      ],
      "text/plain": [
       "            Date  Regular Unleaded Gasoline  Diesel Fuel for Automobiles\n",
       "0     2011-01-01                    1814.57                      1611.14\n",
       "1     2011-01-02                    1815.24                      1611.79\n",
       "2     2011-01-03                    1816.15                      1612.85\n",
       "3     2011-01-04                    1817.48                      1614.02\n",
       "4     2011-01-05                    1818.53                      1615.00\n",
       "...          ...                        ...                          ...\n",
       "4896  2024-05-28                    1678.28                      1511.65\n",
       "4897  2024-05-29                    1676.54                      1509.36\n",
       "4898  2024-05-30                    1675.12                      1507.42\n",
       "4899  2024-05-31                    1673.58                      1505.54\n",
       "4900  2024-06-01                    1671.21                      1502.62\n",
       "\n",
       "[4901 rows x 3 columns]"
      ]
     },
     "execution_count": 10,
     "metadata": {},
     "output_type": "execute_result"
    }
   ],
   "source": [
    "# Convert the date data in Gas_Station_Price_History_drop to the format YYYY-MM-DD\n",
    "Gas_Station_Price_History_drop['Date'] = Gas_Station_Price_History_drop['Date'].dt.strftime('%Y-%m-%d')\n",
    "Gas_Station_Price_History_drop\n"
   ]
  },
  {
   "cell_type": "code",
   "execution_count": 12,
   "metadata": {},
   "outputs": [
    {
     "data": {
      "text/plain": [
       "Text(0, 0.5, 'Regular Unleaded Gasoline')"
      ]
     },
     "execution_count": 12,
     "metadata": {},
     "output_type": "execute_result"
    },
    {
     "data": {
      "image/png": "[encoded data removed]",
      "text/plain": [
       "<Figure size 1000x500 with 1 Axes>"
      ]
     },
     "metadata": {},
     "output_type": "display_data"
    }
   ],
   "source": [
    "# Visualization\n",
    "\n",
    "plt.figure(figsize=(10, 5))\n",
    "plt.plot(Gas_Station_Price_History_drop['Date'], Gas_Station_Price_History_drop['Regular Unleaded Gasoline'], color='blue')\n",
    "plt.title('Regular Unleaded Gasoline')\n",
    "plt.xlabel('Date')\n",
    "plt.ylabel('Regular Unleaded Gasoline')"
   ]
  },
  {
   "cell_type": "code",
   "execution_count": 13,
   "metadata": {},
   "outputs": [
    {
     "data": {
      "text/plain": [
       "Text(0, 0.5, 'Regular Unleaded Gasoline')"
      ]
     },
     "execution_count": 13,
     "metadata": {},
     "output_type": "execute_result"
    },
    {
     "data": {
      "image/png": "[encoded data removed]",
      "text/plain": [
       "<Figure size 1000x500 with 1 Axes>"
      ]
     },
     "metadata": {},
     "output_type": "display_data"
    }
   ],
   "source": [
    "# Visualization\n",
    "\n",
    "plt.figure(figsize=(10, 5))\n",
    "plt.plot(Gas_Station_Price_History_drop['Date'], Gas_Station_Price_History_drop['Diesel Fuel for Automobiles'], color='blue')\n",
    "plt.title('Regular Unleaded Gasoline')\n",
    "plt.xlabel('Date')\n",
    "plt.ylabel('Regular Unleaded Gasoline')"
   ]
  },
  {
   "cell_type": "code",
   "execution_count": null,
   "metadata": {},
   "outputs": [],
   "source": [
    "Gas_Station_Price_History_drop.to_excel(\"../00_Data/Transformed_data/Gas_Station_Price_History_drop.xlsx\")"
   ]
  }
 ],
 "metadata": {
  "kernelspec": {
   "display_name": "Python 3",
   "language": "python",
   "name": "python3"
  },
  "language_info": {
   "codemirror_mode": {
    "name": "ipython",
    "version": 3
   },
   "file_extension": ".py",
   "mimetype": "text/x-python",
   "name": "python",
   "nbconvert_exporter": "python",
   "pygments_lexer": "ipython3",
   "version": "3.12.1"
  }
 },
 "nbformat": 4,
 "nbformat_minor": 2
}
