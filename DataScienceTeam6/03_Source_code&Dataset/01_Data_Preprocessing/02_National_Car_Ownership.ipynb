{
 "cells": [
  {
   "cell_type": "code",
   "execution_count": 33,
   "metadata": {},
   "outputs": [],
   "source": [
    "import pandas as pd\n",
    "import numpy as np\n",
    "import matplotlib.pyplot as plt\n",
    "from sklearn.linear_model import LinearRegression"
   ]
  },
  {
   "cell_type": "code",
   "execution_count": 34,
   "metadata": {},
   "outputs": [
    {
     "data": {
      "text/html": [
       "<div>\n",
       "<style scoped>\n",
       "    .dataframe tbody tr th:only-of-type {\n",
       "        vertical-align: middle;\n",
       "    }\n",
       "\n",
       "    .dataframe tbody tr th {\n",
       "        vertical-align: top;\n",
       "    }\n",
       "\n",
       "    .dataframe thead th {\n",
       "        text-align: right;\n",
       "    }\n",
       "</style>\n",
       "<table border=\"1\" class=\"dataframe\">\n",
       "  <thead>\n",
       "    <tr style=\"text-align: right;\">\n",
       "      <th></th>\n",
       "      <th>Date</th>\n",
       "      <th>number of car ownership</th>\n",
       "    </tr>\n",
       "  </thead>\n",
       "  <tbody>\n",
       "    <tr>\n",
       "      <th>0</th>\n",
       "      <td>2011.01</td>\n",
       "      <td>18038828</td>\n",
       "    </tr>\n",
       "    <tr>\n",
       "      <th>1</th>\n",
       "      <td>2011.02</td>\n",
       "      <td>18074004</td>\n",
       "    </tr>\n",
       "    <tr>\n",
       "      <th>2</th>\n",
       "      <td>2011.03</td>\n",
       "      <td>18129127</td>\n",
       "    </tr>\n",
       "    <tr>\n",
       "      <th>3</th>\n",
       "      <td>2011.04</td>\n",
       "      <td>18178380</td>\n",
       "    </tr>\n",
       "    <tr>\n",
       "      <th>4</th>\n",
       "      <td>2011.05</td>\n",
       "      <td>18217793</td>\n",
       "    </tr>\n",
       "  </tbody>\n",
       "</table>\n",
       "</div>"
      ],
      "text/plain": [
       "      Date  number of car ownership\n",
       "0  2011.01                 18038828\n",
       "1  2011.02                 18074004\n",
       "2  2011.03                 18129127\n",
       "3  2011.04                 18178380\n",
       "4  2011.05                 18217793"
      ]
     },
     "execution_count": 34,
     "metadata": {},
     "output_type": "execute_result"
    }
   ],
   "source": [
    "National_Car_Ownership = pd.read_excel(\"../00_Data/Original_data/National_Car_Ownership.xlsx\")\n",
    "National_Car_Ownership.head()"
   ]
  },
  {
   "cell_type": "code",
   "execution_count": 35,
   "metadata": {},
   "outputs": [
    {
     "data": {
      "text/plain": [
       "(156, 2)"
      ]
     },
     "execution_count": 35,
     "metadata": {},
     "output_type": "execute_result"
    }
   ],
   "source": [
    "National_Car_Ownership.shape"
   ]
  },
  {
   "cell_type": "code",
   "execution_count": 36,
   "metadata": {},
   "outputs": [
    {
     "data": {
      "text/plain": [
       "Index(['Date', 'number of car ownership'], dtype='object')"
      ]
     },
     "execution_count": 36,
     "metadata": {},
     "output_type": "execute_result"
    }
   ],
   "source": [
    "National_Car_Ownership.columns"
   ]
  },
  {
   "cell_type": "code",
   "execution_count": 37,
   "metadata": {},
   "outputs": [
    {
     "name": "stdout",
     "output_type": "stream",
     "text": [
      "<class 'pandas.core.frame.DataFrame'>\n",
      "RangeIndex: 156 entries, 0 to 155\n",
      "Data columns (total 2 columns):\n",
      " #   Column                   Non-Null Count  Dtype  \n",
      "---  ------                   --------------  -----  \n",
      " 0   Date                     156 non-null    float64\n",
      " 1   number of car ownership  156 non-null    int64  \n",
      "dtypes: float64(1), int64(1)\n",
      "memory usage: 2.6 KB\n"
     ]
    }
   ],
   "source": [
    "National_Car_Ownership.info()"
   ]
  },
  {
   "cell_type": "code",
   "execution_count": 38,
   "metadata": {},
   "outputs": [
    {
     "data": {
      "text/html": [
       "<div>\n",
       "<style scoped>\n",
       "    .dataframe tbody tr th:only-of-type {\n",
       "        vertical-align: middle;\n",
       "    }\n",
       "\n",
       "    .dataframe tbody tr th {\n",
       "        vertical-align: top;\n",
       "    }\n",
       "\n",
       "    .dataframe thead th {\n",
       "        text-align: right;\n",
       "    }\n",
       "</style>\n",
       "<table border=\"1\" class=\"dataframe\">\n",
       "  <thead>\n",
       "    <tr style=\"text-align: right;\">\n",
       "      <th></th>\n",
       "      <th>Date</th>\n",
       "      <th>number of car ownership</th>\n",
       "    </tr>\n",
       "  </thead>\n",
       "  <tbody>\n",
       "    <tr>\n",
       "      <th>count</th>\n",
       "      <td>156.000000</td>\n",
       "      <td>1.560000e+02</td>\n",
       "    </tr>\n",
       "    <tr>\n",
       "      <th>mean</th>\n",
       "      <td>2017.065000</td>\n",
       "      <td>2.202107e+07</td>\n",
       "    </tr>\n",
       "    <tr>\n",
       "      <th>std</th>\n",
       "      <td>3.753868</td>\n",
       "      <td>2.478405e+06</td>\n",
       "    </tr>\n",
       "    <tr>\n",
       "      <th>min</th>\n",
       "      <td>2011.010000</td>\n",
       "      <td>1.803883e+07</td>\n",
       "    </tr>\n",
       "    <tr>\n",
       "      <th>25%</th>\n",
       "      <td>2014.037500</td>\n",
       "      <td>1.964637e+07</td>\n",
       "    </tr>\n",
       "    <tr>\n",
       "      <th>50%</th>\n",
       "      <td>2017.065000</td>\n",
       "      <td>2.222158e+07</td>\n",
       "    </tr>\n",
       "    <tr>\n",
       "      <th>75%</th>\n",
       "      <td>2020.092500</td>\n",
       "      <td>2.421378e+07</td>\n",
       "    </tr>\n",
       "    <tr>\n",
       "      <th>max</th>\n",
       "      <td>2023.120000</td>\n",
       "      <td>2.594920e+07</td>\n",
       "    </tr>\n",
       "  </tbody>\n",
       "</table>\n",
       "</div>"
      ],
      "text/plain": [
       "              Date  number of car ownership\n",
       "count   156.000000             1.560000e+02\n",
       "mean   2017.065000             2.202107e+07\n",
       "std       3.753868             2.478405e+06\n",
       "min    2011.010000             1.803883e+07\n",
       "25%    2014.037500             1.964637e+07\n",
       "50%    2017.065000             2.222158e+07\n",
       "75%    2020.092500             2.421378e+07\n",
       "max    2023.120000             2.594920e+07"
      ]
     },
     "execution_count": 38,
     "metadata": {},
     "output_type": "execute_result"
    }
   ],
   "source": [
    "National_Car_Ownership.describe()"
   ]
  },
  {
   "cell_type": "code",
   "execution_count": 39,
   "metadata": {},
   "outputs": [
    {
     "data": {
      "text/plain": [
       "Date                       float64\n",
       "number of car ownership      int64\n",
       "dtype: object"
      ]
     },
     "execution_count": 39,
     "metadata": {},
     "output_type": "execute_result"
    }
   ],
   "source": [
    "National_Car_Ownership.dtypes"
   ]
  },
  {
   "cell_type": "code",
   "execution_count": 40,
   "metadata": {},
   "outputs": [
    {
     "data": {
      "text/html": [
       "<div>\n",
       "<style scoped>\n",
       "    .dataframe tbody tr th:only-of-type {\n",
       "        vertical-align: middle;\n",
       "    }\n",
       "\n",
       "    .dataframe tbody tr th {\n",
       "        vertical-align: top;\n",
       "    }\n",
       "\n",
       "    .dataframe thead th {\n",
       "        text-align: right;\n",
       "    }\n",
       "</style>\n",
       "<table border=\"1\" class=\"dataframe\">\n",
       "  <thead>\n",
       "    <tr style=\"text-align: right;\">\n",
       "      <th></th>\n",
       "      <th>Date</th>\n",
       "      <th>number of car ownership</th>\n",
       "    </tr>\n",
       "  </thead>\n",
       "  <tbody>\n",
       "    <tr>\n",
       "      <th>0</th>\n",
       "      <td>2011.01</td>\n",
       "      <td>18038828</td>\n",
       "    </tr>\n",
       "    <tr>\n",
       "      <th>1</th>\n",
       "      <td>2011.02</td>\n",
       "      <td>18074004</td>\n",
       "    </tr>\n",
       "    <tr>\n",
       "      <th>2</th>\n",
       "      <td>2011.03</td>\n",
       "      <td>18129127</td>\n",
       "    </tr>\n",
       "    <tr>\n",
       "      <th>3</th>\n",
       "      <td>2011.04</td>\n",
       "      <td>18178380</td>\n",
       "    </tr>\n",
       "    <tr>\n",
       "      <th>4</th>\n",
       "      <td>2011.05</td>\n",
       "      <td>18217793</td>\n",
       "    </tr>\n",
       "    <tr>\n",
       "      <th>...</th>\n",
       "      <td>...</td>\n",
       "      <td>...</td>\n",
       "    </tr>\n",
       "    <tr>\n",
       "      <th>151</th>\n",
       "      <td>2023.08</td>\n",
       "      <td>25807871</td>\n",
       "    </tr>\n",
       "    <tr>\n",
       "      <th>152</th>\n",
       "      <td>2023.09</td>\n",
       "      <td>25845648</td>\n",
       "    </tr>\n",
       "    <tr>\n",
       "      <th>153</th>\n",
       "      <td>2023.10</td>\n",
       "      <td>25870152</td>\n",
       "    </tr>\n",
       "    <tr>\n",
       "      <th>154</th>\n",
       "      <td>2023.11</td>\n",
       "      <td>25917976</td>\n",
       "    </tr>\n",
       "    <tr>\n",
       "      <th>155</th>\n",
       "      <td>2023.12</td>\n",
       "      <td>25949201</td>\n",
       "    </tr>\n",
       "  </tbody>\n",
       "</table>\n",
       "<p>156 rows × 2 columns</p>\n",
       "</div>"
      ],
      "text/plain": [
       "        Date  number of car ownership\n",
       "0    2011.01                 18038828\n",
       "1    2011.02                 18074004\n",
       "2    2011.03                 18129127\n",
       "3    2011.04                 18178380\n",
       "4    2011.05                 18217793\n",
       "..       ...                      ...\n",
       "151  2023.08                 25807871\n",
       "152  2023.09                 25845648\n",
       "153  2023.10                 25870152\n",
       "154  2023.11                 25917976\n",
       "155  2023.12                 25949201\n",
       "\n",
       "[156 rows x 2 columns]"
      ]
     },
     "execution_count": 40,
     "metadata": {},
     "output_type": "execute_result"
    }
   ],
   "source": [
    "National_Car_Ownership"
   ]
  },
  {
   "cell_type": "code",
   "execution_count": 41,
   "metadata": {},
   "outputs": [
    {
     "data": {
      "text/html": [
       "<div>\n",
       "<style scoped>\n",
       "    .dataframe tbody tr th:only-of-type {\n",
       "        vertical-align: middle;\n",
       "    }\n",
       "\n",
       "    .dataframe tbody tr th {\n",
       "        vertical-align: top;\n",
       "    }\n",
       "\n",
       "    .dataframe thead th {\n",
       "        text-align: right;\n",
       "    }\n",
       "</style>\n",
       "<table border=\"1\" class=\"dataframe\">\n",
       "  <thead>\n",
       "    <tr style=\"text-align: right;\">\n",
       "      <th></th>\n",
       "      <th>Date</th>\n",
       "      <th>number of car ownership</th>\n",
       "    </tr>\n",
       "  </thead>\n",
       "  <tbody>\n",
       "    <tr>\n",
       "      <th>0</th>\n",
       "      <td>2011-01-01</td>\n",
       "      <td>18409608</td>\n",
       "    </tr>\n",
       "    <tr>\n",
       "      <th>1</th>\n",
       "      <td>2011-01-02</td>\n",
       "      <td>18398782</td>\n",
       "    </tr>\n",
       "    <tr>\n",
       "      <th>2</th>\n",
       "      <td>2011-01-03</td>\n",
       "      <td>18387956</td>\n",
       "    </tr>\n",
       "    <tr>\n",
       "      <th>3</th>\n",
       "      <td>2011-01-04</td>\n",
       "      <td>18377130</td>\n",
       "    </tr>\n",
       "    <tr>\n",
       "      <th>4</th>\n",
       "      <td>2011-01-05</td>\n",
       "      <td>18366304</td>\n",
       "    </tr>\n",
       "    <tr>\n",
       "      <th>...</th>\n",
       "      <td>...</td>\n",
       "      <td>...</td>\n",
       "    </tr>\n",
       "    <tr>\n",
       "      <th>4713</th>\n",
       "      <td>2023-11-27</td>\n",
       "      <td>25945037</td>\n",
       "    </tr>\n",
       "    <tr>\n",
       "      <th>4714</th>\n",
       "      <td>2023-11-28</td>\n",
       "      <td>25946078</td>\n",
       "    </tr>\n",
       "    <tr>\n",
       "      <th>4715</th>\n",
       "      <td>2023-11-29</td>\n",
       "      <td>25947119</td>\n",
       "    </tr>\n",
       "    <tr>\n",
       "      <th>4716</th>\n",
       "      <td>2023-11-30</td>\n",
       "      <td>25948160</td>\n",
       "    </tr>\n",
       "    <tr>\n",
       "      <th>4717</th>\n",
       "      <td>2023-12-01</td>\n",
       "      <td>25949201</td>\n",
       "    </tr>\n",
       "  </tbody>\n",
       "</table>\n",
       "<p>4718 rows × 2 columns</p>\n",
       "</div>"
      ],
      "text/plain": [
       "           Date  number of car ownership\n",
       "0    2011-01-01                 18409608\n",
       "1    2011-01-02                 18398782\n",
       "2    2011-01-03                 18387956\n",
       "3    2011-01-04                 18377130\n",
       "4    2011-01-05                 18366304\n",
       "...         ...                      ...\n",
       "4713 2023-11-27                 25945037\n",
       "4714 2023-11-28                 25946078\n",
       "4715 2023-11-29                 25947119\n",
       "4716 2023-11-30                 25948160\n",
       "4717 2023-12-01                 25949201\n",
       "\n",
       "[4718 rows x 2 columns]"
      ]
     },
     "execution_count": 41,
     "metadata": {},
     "output_type": "execute_result"
    }
   ],
   "source": [
    "from datetime import datetime, timedelta\n",
    "import numpy as np\n",
    "from scipy.interpolate import interp1d\n",
    "import math\n",
    "\n",
    "# Given monthly data\n",
    "National_Car_Ownership['Date'] = National_Car_Ownership['Date'].astype(str)\n",
    "\n",
    "monthly_data = National_Car_Ownership.values\n",
    "\n",
    "# Convert year-month formatted strings to date objects\n",
    "dates = [datetime.strptime(year_month, \"%Y.%m\") for year_month, _ in monthly_data]\n",
    "\n",
    "# Values of monthly data\n",
    "values = [value for _, value in monthly_data]\n",
    "\n",
    "# Sort date and value data by date\n",
    "sorted_indices = np.argsort(dates)\n",
    "sorted_dates = [dates[i] for i in sorted_indices]\n",
    "sorted_values = [values[i] for i in sorted_indices]\n",
    "\n",
    "# Create an interpolation function\n",
    "f = interp1d([date.timestamp() for date in sorted_dates], sorted_values, kind='linear')\n",
    "\n",
    "# Generate interpolated daily data\n",
    "start_date = sorted_dates[0]\n",
    "end_date = sorted_dates[-1]\n",
    "\n",
    "daily_dates = []\n",
    "current_date = start_date\n",
    "while current_date <= end_date:\n",
    "    daily_dates.append(current_date)\n",
    "    current_date += timedelta(days=1)\n",
    "\n",
    "daily_values = [f(date.timestamp()) for date in daily_dates]\n",
    "\n",
    "# Print the result\n",
    "daily_data = list(zip(daily_dates, daily_values))\n",
    "\n",
    "interpolation_function_National_Car_Ownership = pd.DataFrame(daily_data,columns=National_Car_Ownership.columns)\n",
    "\n",
    "interpolation_function_National_Car_Ownership['number of car ownership'] = interpolation_function_National_Car_Ownership['number of car ownership'].astype(int)\n",
    "\n",
    "interpolation_function_National_Car_Ownership\n"
   ]
  },
  {
   "cell_type": "code",
   "execution_count": 42,
   "metadata": {},
   "outputs": [
    {
     "data": {
      "image/png": "[encoded data removed]",
      "text/plain": [
       "<Figure size 1000x500 with 1 Axes>"
      ]
     },
     "metadata": {},
     "output_type": "display_data"
    }
   ],
   "source": [
    "# Visulaization\n",
    "\n",
    "plt.figure(figsize=(10, 5))\n",
    "plt.plot(interpolation_function_National_Car_Ownership['Date'], interpolation_function_National_Car_Ownership['number of car ownership'], color='blue')\n",
    "plt.title('National Car Ownership Over Time')\n",
    "plt.xlabel('Date')\n",
    "plt.ylabel('Number of Car Ownership')\n",
    "plt.show()\n"
   ]
  },
  {
   "cell_type": "code",
   "execution_count": 43,
   "metadata": {},
   "outputs": [],
   "source": [
    "# Create excel file.\n",
    "\n",
    "interpolation_function_National_Car_Ownership.to_excel(\"../00_Data/Transformed_data/interpolation_function_National_Car_Ownership.xlsx\")"
   ]
  }
 ],
 "metadata": {
  "kernelspec": {
   "display_name": "Python 3",
   "language": "python",
   "name": "python3"
  },
  "language_info": {
   "codemirror_mode": {
    "name": "ipython",
    "version": 3
   },
   "file_extension": ".py",
   "mimetype": "text/x-python",
   "name": "python",
   "nbconvert_exporter": "python",
   "pygments_lexer": "ipython3",
   "version": "3.12.1"
  }
 },
 "nbformat": 4,
 "nbformat_minor": 2
}
